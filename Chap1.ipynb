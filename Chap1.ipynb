{
 "cells": [
  {
   "cell_type": "code",
   "execution_count": 1,
   "id": "9241728b-f9b8-44ba-b78c-4fbd5f2c4568",
   "metadata": {},
   "outputs": [
    {
     "name": "stdout",
     "output_type": "stream",
     "text": [
      "Hello World\n"
     ]
    }
   ],
   "source": [
    "# Print Hello World \n",
    "print(\"Hello World\")"
   ]
  },
  {
   "cell_type": "code",
   "execution_count": 7,
   "id": "8efdd790-de67-4c02-8cd2-c09a7259066a",
   "metadata": {},
   "outputs": [
    {
     "name": "stdout",
     "output_type": "stream",
     "text": [
      "Python by - Gaurav Kashyap\n"
     ]
    }
   ],
   "source": [
    "Instructor= \"Gaurav Kashyap\"\n",
    "# This is single line comments\n",
    "print(\"Python by\",Instructor,sep=\" - \")"
   ]
  },
  {
   "cell_type": "code",
   "execution_count": 9,
   "id": "c97ac96b-ad3e-410a-8fae-08b80d7fb889",
   "metadata": {},
   "outputs": [
    {
     "name": "stdout",
     "output_type": "stream",
     "text": [
      "Hello, Greeting\n"
     ]
    }
   ],
   "source": [
    "# Variable -> Variable is the symbolic name that is the reference or pointer to an object\n",
    "variable = \"Greeting\"\n",
    "print(\"Hello,\",variable)\n"
   ]
  },
  {
   "cell_type": "code",
   "execution_count": 18,
   "id": "299dc716-de3b-48fe-a623-b29223f92a13",
   "metadata": {},
   "outputs": [
    {
     "name": "stdout",
     "output_type": "stream",
     "text": [
      "1\n",
      "<class 'int'>\n",
      "2.5\n",
      "<class 'float'>\n",
      "Gaurav\n",
      "<class 'str'>\n",
      "True\n",
      "<class 'bool'>\n",
      "['Gaurav', 4, 5.3]\n",
      "<class 'list'>\n",
      "1 2 3\n"
     ]
    }
   ],
   "source": [
    "# Variable Numeric\n",
    "a = 1\n",
    "print(a)\n",
    "print(type(a))\n",
    "\n",
    "# 2 \n",
    "b = 2.5\n",
    "print(b)\n",
    "print(type(b))\n",
    "\n",
    "# 3 \n",
    "c = \"Gaurav\"\n",
    "print(c)\n",
    "print(type(c))\n",
    "\n",
    "# 4 \n",
    "d = True\n",
    "print(d)\n",
    "print(type(d))\n",
    "\n",
    "# 5 list \n",
    "e = ['Gaurav',4,5.3]\n",
    "print(e)\n",
    "print(type(e))\n",
    "\n",
    "# 6 \n",
    "p,q,r = 1,2,3\n",
    "print(p,q,r)"
   ]
  },
  {
   "cell_type": "code",
   "execution_count": 21,
   "id": "500f46df-f5dc-47e4-9c29-3189246a2b8e",
   "metadata": {},
   "outputs": [
    {
     "name": "stdout",
     "output_type": "stream",
     "text": [
      "2\n",
      "11\n"
     ]
    }
   ],
   "source": [
    "# Data type in python\n",
    "a = 1\n",
    "b = 1\n",
    "print(a+b)\n",
    "\n",
    "c = \"1\"\n",
    "d = \"1\"\n",
    "print(c+d)\n",
    "\n"
   ]
  },
  {
   "cell_type": "code",
   "execution_count": 32,
   "id": "5f8a1310-8452-4254-b80a-3657009338ba",
   "metadata": {},
   "outputs": [
    {
     "name": "stdout",
     "output_type": "stream",
     "text": [
      "<class 'int'>\n",
      "<class 'float'>\n",
      "(3+4j)\n",
      "<class 'str'>\n",
      "<class 'list'>\n",
      "<class 'tuple'>\n",
      "<class 'bool'>\n",
      "<class 'dict'>\n",
      "<class 'bytes'>\n"
     ]
    }
   ],
   "source": [
    "# Integer \n",
    "a = 1\n",
    "print(type(a))\n",
    "\n",
    "# Float \n",
    "b = 2.4 \n",
    "print(type(b))\n",
    "\n",
    "# complex\n",
    "c = complex(3,4)\n",
    "print(c)\n",
    "\n",
    "# Sequence: String, list, tuple\n",
    "d= \"Gaurav\"\n",
    "print(type(d))\n",
    "\n",
    "# List\n",
    "e = [\"Apple\",\"Grapes\",34,3.5]\n",
    "print(type(e))\n",
    "\n",
    "# tuple \n",
    "f = (2,\"Apple\",\"Fig\",3.5)\n",
    "print(type(f))\n",
    "\n",
    "# Boolean\n",
    "bool1 =True\n",
    "bool2 = False\n",
    "\n",
    "print(type(bool1))\n",
    "\n",
    "# Dictionary \n",
    "dict = {'Apple':'Save','Grapes':'Angur','Papaya':'Papita'}\n",
    "print(type(dict))\n",
    "\n",
    "# binary \n",
    "# Byte, bytearray, memoryview\n",
    "\n",
    "byte1 = b\"Madhav\" \n",
    "print(type(byte1))\n"
   ]
  },
  {
   "cell_type": "code",
   "execution_count": 43,
   "id": "454f5775-39d6-42b1-97e6-6bd3a5c373c1",
   "metadata": {},
   "outputs": [
    {
     "name": "stdout",
     "output_type": "stream",
     "text": [
      "Python is fun.\n",
      " \"Quotes\" and 'single quotes' can be tricky.\n",
      "My name is Gaurav,and I am 34 years old & I'm from Kanpur.\n"
     ]
    }
   ],
   "source": [
    "# Assignment 1\n",
    "# Q:1 WAP that prints the following text exactly as it appears\n",
    "# Python is fun.\n",
    "#  \"Quotes\" and 'single quotes' can be tricky.\n",
    "print(\"Python is fun.\")\n",
    "print(''' \"Quotes\" and 'single quotes' can be tricky.''')\n",
    "\n",
    "# Q:2 For a business create 3 variables to store- name, age, city . Then print a sentence that uses these  variables.\n",
    "name =\"Gaurav\"\n",
    "age= 34\n",
    "city = \"Kanpur\"\n",
    "print(f\"My name is {name},and I am {age} years old & I'm from {city}.\")\n"
   ]
  },
  {
   "cell_type": "code",
   "execution_count": 51,
   "id": "0384288d-675d-4f18-b25f-8f98f30cc1dd",
   "metadata": {},
   "outputs": [
    {
     "name": "stdout",
     "output_type": "stream",
     "text": [
      "<class 'int'>\n",
      "<class 'str'>\n",
      "2\n",
      "22.5\n",
      "<class 'float'>\n",
      "8\n"
     ]
    }
   ],
   "source": [
    " # Type casting -> It is used to convert the one data type in to another.\n",
    "a = 1\n",
    "print(type(a))\n",
    "b  = \"1\"\n",
    "print(type(b))\n",
    "c = int(b) # for convert string into integer \n",
    "\n",
    "print(a + c)\n",
    "\n",
    "# implicit casting\n",
    "var1 = 10\n",
    "var2  = 12.5\n",
    "var3 = var1 + var2\n",
    "print(var1 + var2)\n",
    "print(type(var3))\n",
    "\n",
    "# Explicit\n",
    "s1 = 4\n",
    "s2 = \"4\"\n",
    "print(s1 + int(s2))\n"
   ]
  },
  {
   "cell_type": "code",
   "execution_count": 52,
   "id": "0523b0ad-5fe7-4864-a9cd-62f399dff2a8",
   "metadata": {},
   "outputs": [
    {
     "name": "stdout",
     "output_type": "stream",
     "text": [
      "Enter Your Name : Gaurav\n"
     ]
    },
    {
     "name": "stdout",
     "output_type": "stream",
     "text": [
      "Hello dear ,  Gaurav\n"
     ]
    }
   ],
   "source": [
    "# Input function\n",
    "\n",
    "name = input(\"Enter Your Name :\")\n",
    "print(\"Hello dear , \",name)"
   ]
  },
  {
   "cell_type": "code",
   "execution_count": 54,
   "id": "15de9d08-b713-4229-b9ba-6d10401b0170",
   "metadata": {},
   "outputs": [
    {
     "name": "stdout",
     "output_type": "stream",
     "text": [
      "Enter value1 :  4\n",
      "Enter value2 :  3\n"
     ]
    },
    {
     "name": "stdout",
     "output_type": "stream",
     "text": [
      "Addition of 4 and 3 is 7\n"
     ]
    }
   ],
   "source": [
    "# Add two numbers by taking value from user\n",
    "num1 = int(input(\"Enter value1 : \"))\n",
    "num2 = int(input(\"Enter value2 : \"))\n",
    "result =num1 + num2 \n",
    "print(f\"Addition of {num1} and {num2} is {result}\")"
   ]
  },
  {
   "cell_type": "code",
   "execution_count": 57,
   "id": "aa2eeaa0-1841-4d30-abf7-a5747dde987c",
   "metadata": {},
   "outputs": [
    {
     "name": "stdout",
     "output_type": "stream",
     "text": [
      "Enter Your Name =  Deepu\n",
      "Enter Marks Subject1 :  40\n",
      "Enter Marks Subject2 :  576\n",
      "Enter Marks Subject3 :  545\n"
     ]
    },
    {
     "name": "stdout",
     "output_type": "stream",
     "text": [
      "Student Name is Deepu.\n",
      "Percentage is 387.0.\n"
     ]
    },
    {
     "name": "stdout",
     "output_type": "stream",
     "text": [
      "Enter Your anme  Gaurav\n"
     ]
    }
   ],
   "source": [
    " # Assignment 2 \n",
    "# Q 1 : WAP to input student name and marks of 3 subejcts . Print name & Percentage in output\n",
    "student_name = input(\"Enter Your Name = \")\n",
    "subject1 = int(input(\"Enter Marks Subject1 : \"))\n",
    "subject2 = int(input(\"Enter Marks Subject2 : \"))\n",
    "subject3 = int(input(\"Enter Marks Subject3 : \"))\n",
    "\n",
    "sum_marks = subject1 + subject2 + subject3\n",
    "percent = sum_marks*100/300\n",
    "print(f\"Student Name is {student_name}.\\nPercentage is {percent}.\")\n",
    "\n"
   ]
  },
  {
   "cell_type": "code",
   "execution_count": 60,
   "id": "03eb43bf-4b3b-4918-88e2-004071605c71",
   "metadata": {},
   "outputs": [
    {
     "name": "stdout",
     "output_type": "stream",
     "text": [
      "Enter Your name :  Gaurav\n",
      "Enter Your age :  50\n",
      "Enter Your height :  20\n",
      "Enter Your Status :  Yes\n"
     ]
    },
    {
     "name": "stdout",
     "output_type": "stream",
     "text": [
      "{'name': 'Gaurav', 'age': 50, 'height': 20, 'student_status': True}\n"
     ]
    }
   ],
   "source": [
    "# Q 2: WAP that collects multiple types of data (e.g name,age ,height and student status from user input, store them in dictionary , and prints out the collected data ?\n",
    "# Initializing a dicitonary \n",
    "user_data = {}\n",
    "user_data['name'] = input(\"Enter Your name : \")\n",
    "user_data['age'] = int(input(\"Enter Your age : \"))\n",
    "user_data['height'] = float(input(\"Enter Your height : \"))\n",
    "user_data['student_status'] = bool(input(\"Enter Your Status : \"))\n",
    "print(user_data)"
   ]
  },
  {
   "cell_type": "code",
   "execution_count": 80,
   "id": "20cf9c58-70b3-4050-aa8c-31c342f6e3bf",
   "metadata": {},
   "outputs": [
    {
     "name": "stdout",
     "output_type": "stream",
     "text": [
      "8\n",
      "2\n",
      "15\n",
      "1.6666666666666667\n",
      "1\n",
      "2\n",
      "125\n",
      "False\n",
      "True\n",
      "False\n",
      "True\n",
      "True\n",
      "True\n",
      "True\n",
      "False\n",
      "True\n",
      "False\n",
      "0\n"
     ]
    }
   ],
   "source": [
    "# Operators -> Operators are the special symbols/ Keywords that is used for operations on operand. \n",
    "# Types of Opertors.\n",
    "# 1. Arithmetic Operators\n",
    "# 2. Comparision Operators\n",
    "# 3. Assignment Operators\n",
    "# 4. Logical Operators\n",
    "# 5. Bitwise Operators\n",
    "# 6. Identity Operators\n",
    "# 7. Membership Operators\n",
    "\n",
    "# Arithmetic Operator -> Arithemetic operators are used with numeric values to perform mathematical operations sucha s addition,substraction, multiplication\n",
    "\n",
    "a =5\n",
    "b = 3\n",
    "print(a+b)\n",
    "print(a-b)\n",
    "print(a*b)\n",
    "print(a/b)\n",
    "print(a//b)\n",
    "print(a%b)\n",
    "print(a**b)\n",
    "\n",
    "# comparison Operators-> It is used to compares two values.\n",
    "a = 6\n",
    "b =4\n",
    "print(a == b)\n",
    "print(a>b)\n",
    "print(a<b)\n",
    "print(a != b)\n",
    "\n",
    "# Assignment Operators- It is used to assign value to variable\n",
    "a =10\n",
    "\n",
    "# logical operators\n",
    "# Rule for and\n",
    "# 1. True + True = True\n",
    "# 2. True + False = False\n",
    "# 3. False + False = False\n",
    "a = 10 \n",
    "b =20\n",
    "print(a<20 and b>10)\n",
    "print(a==10 or a>b)\n",
    "\n",
    "# Rule for or \n",
    "# 1. True + false = True\n",
    "\n",
    "# Identity Operators -> is , is not\n",
    "x = [1,2,3]\n",
    "y = x\n",
    "z = [1,2,3]\n",
    "print(x is y)\n",
    "print(x is z)\n",
    "\n",
    "# Membership operators -> in , not in\n",
    "my_list =['apple','orange','grapes']\n",
    "print('apple' in my_list)\n",
    "\n",
    "print('apple' not in my_list)\n",
    "\n",
    "# Bitwise Operator -> AND, OR, XOR, NOT etc\n",
    "a = 5\n",
    "b = 2\n",
    "print(a & b)\n"
   ]
  },
  {
   "cell_type": "code",
   "execution_count": null,
   "id": "0295e66a-7287-4d00-a929-8d7d1eb37c3c",
   "metadata": {},
   "outputs": [],
   "source": [
    "# Conditional statement in python\n",
    "# 1. Conditional Statment Definition\n",
    "# 2. Types of Conditional Statement \n",
    "# 3. Conditional Statement examples\n",
    "\n"
   ]
  },
  {
   "cell_type": "code",
   "execution_count": 81,
   "id": "5d50b17d-0eed-4cd4-9e19-0c8ff2af522c",
   "metadata": {},
   "outputs": [
    {
     "name": "stdout",
     "output_type": "stream",
     "text": [
      "B is Greater\n"
     ]
    }
   ],
   "source": [
    "# 1. if statment\n",
    "a = 26\n",
    "b = 105\n",
    "if b > a:\n",
    "    print(\"B is Greater\")"
   ]
  },
  {
   "cell_type": "code",
   "execution_count": 82,
   "id": "b93c8206-48c7-4c9f-80b5-6b1173f547eb",
   "metadata": {},
   "outputs": [
    {
     "name": "stdout",
     "output_type": "stream",
     "text": [
      "It is hot day\n"
     ]
    }
   ],
   "source": [
    "# Q 1: \n",
    "temperator = 30\n",
    "if temperator > 25:\n",
    "    print(\"It is hot day\")\n",
    "else:\n",
    "    print(\"It is cool day \")"
   ]
  },
  {
   "cell_type": "code",
   "execution_count": 84,
   "id": "efa5a7e7-6729-486d-b5e1-0637d90f5f7e",
   "metadata": {},
   "outputs": [
    {
     "name": "stdout",
     "output_type": "stream",
     "text": [
      "Minor\n"
     ]
    }
   ],
   "source": [
    " # Ternary operator\n",
    "age = 16 \n",
    "status = \"Major\" if age >= 18 else \"Minor\"\n",
    "print(status)"
   ]
  },
  {
   "cell_type": "code",
   "execution_count": 85,
   "id": "f7b1a1ef-3087-4465-ad8b-480c90dc1228",
   "metadata": {},
   "outputs": [
    {
     "name": "stdout",
     "output_type": "stream",
     "text": [
      "Value is False\n"
     ]
    }
   ],
   "source": [
    "# Q 1: What is expected output and reason ?\n",
    "value =None\n",
    "if value:\n",
    "    print(\"Value is True\")\n",
    "else:\n",
    "    print(\"Value is False\")"
   ]
  },
  {
   "cell_type": "code",
   "execution_count": 87,
   "id": "5de7581c-436a-4024-82b1-d029bbb048d4",
   "metadata": {},
   "outputs": [
    {
     "name": "stdout",
     "output_type": "stream",
     "text": [
      "2025 is not a leap year.\n"
     ]
    }
   ],
   "source": [
    "# Q 2: Write a simple program to determine if a given years is  a leap year\n",
    "year = 2025\n",
    "if (year % 400 ==0) or (year%4==0 and year%100 !=0):\n",
    "    print(f\"{year} is a leap year.\")\n",
    "else:\n",
    "    print(f\"{year} is not a leap year.\")"
   ]
  },
  {
   "cell_type": "code",
   "execution_count": 107,
   "id": "df5defd7-83bb-46a3-b765-962639923da8",
   "metadata": {},
   "outputs": [
    {
     "name": "stdout",
     "output_type": "stream",
     "text": [
      "Enter Your Username :  ad,om\n",
      "Enter Your Password :  ado\n"
     ]
    },
    {
     "name": "stdout",
     "output_type": "stream",
     "text": [
      "Username is incorrect\n"
     ]
    }
   ],
   "source": [
    "# Q 3: Login Authentication using conditional statement\n",
    "# Predefined credentials\n",
    "correct_username = \"admin\"\n",
    "correct_password = \"1234\"\n",
    "\n",
    "# User input\n",
    "username = input(\"Enter Your Username : \")\n",
    "password = input(\"Enter Your Password : \")\n",
    "\n",
    "# Authentication checks\n",
    "if username == correct_username and password == correct_password:\n",
    "    print(\"Both username and password are correct\")\n",
    "elif username == correct_username and password != correct_password:\n",
    "    print(\"Username is correct but password is incorrect\")\n",
    "else:\n",
    "    print(\"Username is incorrect\")\n"
   ]
  },
  {
   "cell_type": "code",
   "execution_count": 114,
   "id": "1bf77a94-c51d-4188-8b40-062dfdbb1a93",
   "metadata": {},
   "outputs": [
    {
     "name": "stdout",
     "output_type": "stream",
     "text": [
      "Enter marks Mathematics =  50\n",
      "Enter marks Physics =  60\n",
      "Enter marks Chemistry =  300\n"
     ]
    },
    {
     "name": "stdout",
     "output_type": "stream",
     "text": [
      "Not Eligible for admission\n"
     ]
    }
   ],
   "source": [
    "# Q 4 : Admission Elgibility: A University has the following eligibilty criteria for admission:\n",
    "# - Marks in Mathematics >= 65\n",
    "# - Marks in Physics >= 55\n",
    "# - Marks in Chemistry >= 50\n",
    "# - Total marks in all three subjects>= 180 or total marks in mathematics and physics >=140\n",
    "# wap that takes marks in three subjects as input and prints whether the student is eligible for admission\n",
    "\n",
    "marks1 = int(input(\"Enter marks Mathematics = \"))\n",
    "marks2 = int(input(\"Enter marks Physics = \"))\n",
    "marks3 = int(input(\"Enter marks Chemistry = \"))\n",
    "\n",
    "total_marks = marks1 + marks2 + marks3\n",
    "total_marks_mp = marks1+ marks2\n",
    "if (total_marks >= 180 and marks1>=65 and marks2 >=55 and marks3 >=50 or total_marks_mp >= 140):\n",
    "    print(\"Eligible for admission\")\n",
    "else:\n",
    "    print(\"Not Eligible for admission\")"
   ]
  },
  {
   "cell_type": "code",
   "execution_count": 115,
   "id": "14c953c4-9c32-41b1-8687-8545e1b5ddc6",
   "metadata": {},
   "outputs": [
    {
     "name": "stdout",
     "output_type": "stream",
     "text": [
      "Welcome to the python course by Gaurav\n"
     ]
    }
   ],
   "source": [
    " # Function : It is the block of code which is used to perform specific task .\n",
    "# create function\n",
    "def greetings():\n",
    "    print(\"Welcome to the python course by Gaurav\")\n",
    "greetings()"
   ]
  },
  {
   "cell_type": "code",
   "execution_count": 117,
   "id": "da39e2ec-66c1-44cc-ab46-1cfbceed6b42",
   "metadata": {},
   "outputs": [
    {
     "name": "stdout",
     "output_type": "stream",
     "text": [
      "6\n"
     ]
    }
   ],
   "source": [
    "def add2numbers(a,b):\n",
    "    print(a+b)\n",
    "add2numbers(2,4)\n"
   ]
  },
  {
   "cell_type": "code",
   "execution_count": 126,
   "id": "2b2a7794-3421-4adb-8e6c-7145c9cdb558",
   "metadata": {},
   "outputs": [
    {
     "name": "stdout",
     "output_type": "stream",
     "text": [
      "Enter the num1 :  2\n",
      "Enter the num2 : 5\n"
     ]
    },
    {
     "data": {
      "text/plain": [
       "(7, -3, 10, 0.4, 4.5)"
      ]
     },
     "execution_count": 126,
     "metadata": {},
     "output_type": "execute_result"
    }
   ],
   "source": [
    "# WAP to create a calculator that can perform at least five different\n",
    "# mathematical operations such as addition , subtraction, multiplication,\n",
    "# division and average. Ensure that the program is user -friendly , prompting for input and displaying the results clearly.\n",
    "def calculator(num1,num2):\n",
    "    try:\n",
    "        add = num1 + num2\n",
    "        sub = num1 - num2\n",
    "        mul = num1 * num2\n",
    "        div = num1 / num2\n",
    "        average = num1+ num2/2\n",
    "        return add,sub,mul,div,average\n",
    "    except ZeroDivisionError:\n",
    "        print(\"Error: cannot divide by zero\")\n",
    "# Call the function \n",
    "num1 =int(input(\"Enter the num1 : \"))\n",
    "num2 = int(input(\"Enter the num2 :\"))\n",
    "calculator(num1,num2)"
   ]
  },
  {
   "cell_type": "code",
   "execution_count": 139,
   "id": "01c2095f-18f6-4c6b-9681-91dad7df3ed7",
   "metadata": {},
   "outputs": [
    {
     "name": "stdout",
     "output_type": "stream",
     "text": [
      "Value of pi upto 2 decimal places: 3.14\n",
      "3.14\n"
     ]
    }
   ],
   "source": [
    "# string -> it is the sequence of characters that are enclosed by single ,double and triple quotes.\n",
    "# Q 1: Limit the decimal places to 2 digits using .format method and print result, for the variable \n",
    "pi = 3.141592\n",
    "print(\"Value of pi upto 2 decimal places: {:.2f}\".format(pi))\n",
    "print(round(pi,2))"
   ]
  },
  {
   "cell_type": "code",
   "execution_count": 137,
   "id": "b37f3ecb-1fba-4902-a2cf-e2ca77863b62",
   "metadata": {},
   "outputs": [
    {
     "data": {
      "text/plain": [
       "'to '"
      ]
     },
     "execution_count": 137,
     "metadata": {},
     "output_type": "execute_result"
    }
   ],
   "source": [
    "# Q 2: Extract characters from index 2 to 8 with step of 3 : \n",
    "# Given my_string = \"Python Course\" , slice characters from inodex 2 to 8,skipping every ther char.\n",
    "\n",
    "my_string = \"Python Course\"\n",
    "my_string[2:8:2]"
   ]
  },
  {
   "cell_type": "code",
   "execution_count": 143,
   "id": "3a420ee5-d174-4472-8cfd-b722df7b547b",
   "metadata": {},
   "outputs": [
    {
     "name": "stdout",
     "output_type": "stream",
     "text": [
      "h\n"
     ]
    }
   ],
   "source": [
    "# Q 3: Slice to get only the middle character(s): for my_string =\"Madhav\",use slicing to extract the middle character(s).\n",
    "my_string = \"Madhav\" # 6 even\n",
    "my_string2= \"Madhava\" # odd\n",
    "\n",
    "def mid_str(word):\n",
    "    middle = int(len(word)/2)\n",
    "    if len(word)% 2 == 0:\n",
    "        return word[middle-1:middle+1]\n",
    "    else:\n",
    "        return word[middle]\n",
    "print(mid_str(my_string2))"
   ]
  },
  {
   "cell_type": "code",
   "execution_count": 145,
   "id": "983e08b8-614d-45c6-befe-f68293c2c80d",
   "metadata": {},
   "outputs": [
    {
     "name": "stdout",
     "output_type": "stream",
     "text": [
      "ression Analy\n"
     ]
    }
   ],
   "source": [
    "# Q 4: Remove the first 3 and last 3 characters : Given my_string= \"regression analysis\" , remvoe\n",
    "# the first 3 and last 3 characters.\n",
    "\n",
    "my_string = \"Regression Analysis\"\n",
    "print(my_string[3:-3])"
   ]
  },
  {
   "cell_type": "code",
   "execution_count": 157,
   "id": "63d1a01f-7012-4969-a470-7a876c2a6b58",
   "metadata": {},
   "outputs": [
    {
     "data": {
      "text/plain": [
       "'tion'"
      ]
     },
     "execution_count": 157,
     "metadata": {},
     "output_type": "execute_result"
    }
   ],
   "source": [
    "# Q 5: Get the substring that starts 4 characters from the end to the last character : For my_string = \"Classification\" , slice the string \n",
    "# starting from the 4th character from the end to last character.\n",
    "my_string = \"Classification\"\n",
    "my_string[-4:]"
   ]
  },
  {
   "cell_type": "code",
   "execution_count": 158,
   "id": "4fb20f8d-0457-48fd-966b-a1b3088ed5c9",
   "metadata": {},
   "outputs": [
    {
     "data": {
      "text/plain": [
       "'elppA'"
      ]
     },
     "execution_count": 158,
     "metadata": {},
     "output_type": "execute_result"
    }
   ],
   "source": [
    "# Q 6 : How to reverse a string using python string methods\n",
    "my_string = \"Apple\"\n",
    "my_string[::-1]"
   ]
  },
  {
   "cell_type": "code",
   "execution_count": 162,
   "id": "6782c0a8-65d0-4097-94dc-5af5173d4468",
   "metadata": {},
   "outputs": [
    {
     "name": "stdout",
     "output_type": "stream",
     "text": [
      "Not Palindrome\n"
     ]
    }
   ],
   "source": [
    "# Q 7 : Write the python function to check if a string is a palindrome using string methods,\n",
    "\n",
    "def is_palindrome(s):\n",
    "    original_string= my_string\n",
    "    reversed_string = my_string[::-1]\n",
    "    if original_string == reversed_string:\n",
    "        print(\"Palindrome\")\n",
    "    else:\n",
    "        print(\"Not Palindrome\")\n",
    "\n",
    "# define\n",
    "my_string = \"ALA2\"\n",
    "# call \n",
    "is_palindrome(my_string)\n"
   ]
  },
  {
   "cell_type": "code",
   "execution_count": 167,
   "id": "a8e0941d-b507-4377-b595-ae2077426c61",
   "metadata": {},
   "outputs": [],
   "source": [
    "# difference between find() and index() inpython\n",
    "# efficient string concatenation method : why is usinf join()\n",
    "# efficient thant usin  + for stirng concatenation in loop\n"
   ]
  },
  {
   "cell_type": "code",
   "execution_count": 168,
   "id": "1fc4d934-b924-4162-967b-f657bd59eede",
   "metadata": {},
   "outputs": [],
   "source": [
    "# Loops :it is used to perform repetitive tasks efficiently without writing redundant code. they iterate a sequence (lik a listm tuple,or range)\n"
   ]
  },
  {
   "cell_type": "code",
   "execution_count": 3,
   "id": "1d482dbc-8026-4512-9054-9ac090f748f6",
   "metadata": {},
   "outputs": [
    {
     "name": "stdout",
     "output_type": "stream",
     "text": [
      "Hello\n"
     ]
    }
   ],
   "source": [
    "# Assignment 5 \n",
    "print(\"Hello\")\n"
   ]
  },
  {
   "cell_type": "code",
   "execution_count": 8,
   "id": "2d98083a-3ad7-44c0-8243-a6646bf80d17",
   "metadata": {},
   "outputs": [
    {
     "name": "stdout",
     "output_type": "stream",
     "text": [
      "Hello Madhav 1 Hello Madhav 2 Hello Madhav 3 "
     ]
    }
   ],
   "source": [
    "i = 1\n",
    "while i<4:\n",
    "    print(f\"Hello Madhav {i}\",end = \" \")\n",
    "    i += 1\n",
    "    "
   ]
  },
  {
   "cell_type": "code",
   "execution_count": 17,
   "id": "ff8dec6f-bb9b-4ff5-9219-b20138e2ab88",
   "metadata": {},
   "outputs": [
    {
     "name": "stdout",
     "output_type": "stream",
     "text": [
      "* \n",
      "* * \n",
      "* * * \n",
      "* * * * \n"
     ]
    }
   ],
   "source": [
    "# Print star patterns - using loops\n",
    "# *\n",
    "# * * \n",
    "# * * *\n",
    "# * * * *\n",
    "\n",
    "n = 4\n",
    "for i in range(1,n+1):\n",
    "    for j in range(1,i+1):\n",
    "        print(\"*\", end= \" \")\n",
    "    print()"
   ]
  },
  {
   "cell_type": "code",
   "execution_count": 21,
   "id": "2b35b0c4-753a-4e97-b6bc-75a7d949dbc3",
   "metadata": {},
   "outputs": [
    {
     "name": "stdout",
     "output_type": "stream",
     "text": [
      "* * * * * \n",
      "* * * * \n",
      "* * * \n",
      "* * \n",
      "* \n"
     ]
    }
   ],
   "source": [
    "n = 5\n",
    "# for i in range(n,0,-1):\n",
    "#     for j in range(1,i+1):\n",
    "#         print(\"*\", end= \" \")\n",
    "#     print()\n",
    "\n",
    "for i in range(n,0,-1):\n",
    "    print(\"* \" * i)"
   ]
  },
  {
   "cell_type": "code",
   "execution_count": 24,
   "id": "a0a0b81c-a33e-4da8-9c87-3926e8e306b2",
   "metadata": {},
   "outputs": [
    {
     "name": "stdout",
     "output_type": "stream",
     "text": [
      "    *\n",
      "   ***\n",
      "  *****\n",
      " *******\n",
      "*********\n"
     ]
    }
   ],
   "source": [
    "n = 5 \n",
    "for i in range(1,n+1):\n",
    "    print(' '* (n-i),end = \"\")\n",
    "    print(\"*\" * (2*i-1)) # print stars \n"
   ]
  },
  {
   "cell_type": "code",
   "execution_count": 28,
   "id": "99ef9b41-2c60-44e2-b732-cba68a01230c",
   "metadata": {},
   "outputs": [
    {
     "name": "stdout",
     "output_type": "stream",
     "text": [
      "<class 'int'>\n"
     ]
    }
   ],
   "source": [
    "# wap to find the factorial of a given number\n",
    "\n",
    "def factorial(num):\n",
    "    fact = 1\n",
    "    if( num == 0 and num ==1):\n",
    "        return 1\n",
    "    else :\n",
    "        for i in range(1,num+1):\n",
    "            fact = fact * i\n",
    "        return fact\n",
    "factorial(5)\n",
    "\n",
    "print(type(fact))"
   ]
  },
  {
   "cell_type": "code",
   "execution_count": 32,
   "id": "2886d6e5-e045-4043-b5f0-7ce49c8953ee",
   "metadata": {},
   "outputs": [
    {
     "data": {
      "text/plain": [
       "3"
      ]
     },
     "execution_count": 32,
     "metadata": {},
     "output_type": "execute_result"
    }
   ],
   "source": [
    "# Count the number of vowels in string \n",
    "def count_vowels(string):\n",
    "    count = 0\n",
    "    vowels = \"aieouAIEOU\"\n",
    "    for char in string:\n",
    "        if char in vowels :\n",
    "            count +=1\n",
    "    return count\n",
    "string =\"Gaurav\"\n",
    "count_vowels(string)\n",
    "        "
   ]
  },
  {
   "cell_type": "code",
   "execution_count": 35,
   "id": "aa342720-624f-4247-b298-99cbe6d54c9e",
   "metadata": {},
   "outputs": [
    {
     "data": {
      "text/plain": [
       "'Kashyap'"
      ]
     },
     "execution_count": 35,
     "metadata": {},
     "output_type": "execute_result"
    }
   ],
   "source": [
    "# Find the longest word in a sentence using a for loop\n",
    "def find(word):\n",
    "    words = sentence.split()\n",
    "    longest_word = \"\"\n",
    "\n",
    "    for word in words:\n",
    "        if len(word) > len(longest_word):\n",
    "            longest_word = word\n",
    "    return longest_word\n",
    "\n",
    "sentence = \"Python by Gaurav Kashyap\"\n",
    "    \n",
    "find(sentence)\n",
    "    "
   ]
  },
  {
   "cell_type": "code",
   "execution_count": 60,
   "id": "bbde5e18-3743-4476-9117-1257a8034716",
   "metadata": {},
   "outputs": [
    {
     "name": "stdout",
     "output_type": "stream",
     "text": [
      "0 1 1 2 3 5 8 13 21 34 "
     ]
    }
   ],
   "source": [
    "# WAP to print first N numbets in the fibonacci sequence using a while loop\n",
    "def fibonacci(num):\n",
    "    a = 0 \n",
    "    b = 1\n",
    "    fib_series=0\n",
    "    print(0 ,end =\" \" )\n",
    "    print(1 ,end =\" \" )\n",
    "    for i in range(2,num):\n",
    "        fib_series = (a + b)\n",
    "        print(fib_series, end = \" \" )\n",
    "        a = b\n",
    "        b = fib_series\n",
    "    \n",
    "\n",
    "c =fibonacci(10)\n"
   ]
  },
  {
   "cell_type": "code",
   "execution_count": 61,
   "id": "98e101c9-ced7-412f-ad39-9c03921b5f63",
   "metadata": {},
   "outputs": [
    {
     "name": "stdout",
     "output_type": "stream",
     "text": [
      "gauravKashyap\n"
     ]
    }
   ],
   "source": [
    "print(\"gauravKashyap\")"
   ]
  },
  {
   "cell_type": "code",
   "execution_count": 68,
   "id": "bc320f6e-f8b4-460b-bb50-474af1e888e4",
   "metadata": {},
   "outputs": [
    {
     "name": "stdout",
     "output_type": "stream",
     "text": [
      "Gaurav Kashyap\n"
     ]
    }
   ],
   "source": [
    "n1 = \"Gaurav\"\n",
    "n2 =\"Kashyap\"\n",
    "print(n1,n2) "
   ]
  },
  {
   "cell_type": "code",
   "execution_count": 120,
   "id": "1959626a-bfd7-428b-b3d8-3edb364363d2",
   "metadata": {},
   "outputs": [
    {
     "name": "stdout",
     "output_type": "stream",
     "text": [
      "['apple', 'banana', 'grapes', 'orange']\n",
      "grapes\n",
      "<class 'list'>\n",
      "['orange', 'grapes', 'banana', 'apple']\n",
      "['apple', 'banana', 'Date', 'grapes', 'orange']\n",
      "['apple', 'banana', 'Date', 'grapes', 'orange', 4]\n",
      "['apple', 'banana', 'Date', 'grapes', 'orange', 4, 1, 2, 3, 4]\n",
      "['apple', 'banana', 'Date', 'grapes', 'orange', 4, 1, 3, 4]\n",
      "[1, 2, 3, 4]\n",
      "[4, 3, 1, 4, 'orange', 'grapes', 'Date', 'banana', 'apple']\n",
      "['apple', 'banana', 'Date', 'grapes', 'orange', 4, 1, 3, 4]\n",
      "['apple', 'banana', 'Date', 'grapes', 'orange', 4, 1, 3, 4]\n"
     ]
    }
   ],
   "source": [
    "# chap list \n",
    "list = ['apple','banana','grapes','orange']\n",
    "list2 = [1,2,3,4]\n",
    "\n",
    "print(list)\n",
    "# list[1]\n",
    "print(list[2])\n",
    "\n",
    "print(type(list))\n",
    "print(list[::-1])\n",
    "list.insert(2,'Date')\n",
    "print(list)\n",
    "list.append(4)\n",
    "print(list)\n",
    "list.extend(list2)\n",
    "print(list)\n",
    "list.remove(2) # Remove particular value\n",
    "print(list)\n",
    "# list.pop()\n",
    "# print(list)\n",
    "# print(list.clear())\n",
    "list.index('orange')\n",
    "\n",
    "list.count(4)\n",
    "\n",
    "list2.sort()\n",
    "print(list2)\n",
    "\n",
    "# reverse\n",
    "print(list[::-1])\n",
    "\n",
    "# copy\n",
    "print(list)\n",
    "list.copy()\n",
    "print(list)"
   ]
  },
  {
   "cell_type": "code",
   "execution_count": 10,
   "id": "4ebc60ad-e87e-4468-aec3-9baa5f37b222",
   "metadata": {},
   "outputs": [
    {
     "name": "stdout",
     "output_type": "stream",
     "text": [
      "(1, 2, 3)\n",
      "<class 'tuple'>\n",
      "(1, 'Madhav', True, 13.4)\n",
      "<class 'tuple'>\n",
      "(1, 5, 9)\n",
      "('q',)\n",
      "<class 'tuple'>\n"
     ]
    }
   ],
   "source": [
    "# Tuples in python\n",
    "my_tuple = (1,2,3)\n",
    "print(my_tuple)\n",
    "print(type(my_tuple))\n",
    "\n",
    "# create tuples using various method d\n",
    "my_tuple1 = (1,\"Madhav\",True,13.4)\n",
    "print(my_tuple1)\n",
    "\n",
    "# 3 \n",
    "my_tuple2 = tuple((1,5,9))\n",
    "print(type(my_tuple2))\n",
    "print(my_tuple2)\n",
    "\n",
    "# single element\n",
    "a = (\"q\",)\n",
    "print(a)\n",
    "print(type(a))"
   ]
  },
  {
   "cell_type": "code",
   "execution_count": 22,
   "id": "9d70c861-5d1d-4f16-a0cf-bac1f419877e",
   "metadata": {},
   "outputs": [
    {
     "name": "stdout",
     "output_type": "stream",
     "text": [
      "{1, 2, 3, 5}\n",
      "{1, 2, 3, 4, 5}\n",
      "{1, 2, 3, 4, 5, 6}\n",
      "{1, 2, 3, 4, 5, 6}\n",
      "{2, 3}\n",
      "{1}\n",
      "{1, 2, 3, 4, 5}\n"
     ]
    }
   ],
   "source": [
    "# set \n",
    "my_set = {1,2,3,5,2}\n",
    "print(my_set)\n",
    "my_set.add(4)\n",
    "print(my_set)\n",
    "\n",
    "#union method -m Combine elements from 2 set \n",
    "set1 = {1,2,3}\n",
    "set2 = {4,5,6}\n",
    "union_set= set1.union(set2)\n",
    "print(union_set)\n",
    "\n",
    "# alternative \n",
    "union_set = set1 |set2\n",
    "print(union_set)\n",
    "\n",
    "# Intersection\n",
    "set1 = {1,2,3}\n",
    "set2 = {2,3,4}\n",
    "intersection_set = set1.intersection(set2)\n",
    "print(intersection_set)\n",
    "\n",
    "difference_set = set1 - set2\n",
    "print(difference_set)\n",
    "\n",
    "\n",
    "# set common use case \n",
    "numbers = [1,2,3,4,5,]\n",
    "unique_numbers = set(numbers)\n",
    "print(unique_numbers)"
   ]
  },
  {
   "cell_type": "code",
   "execution_count": 26,
   "id": "d7b2860a-c955-46f7-a90b-d20d3a4097de",
   "metadata": {},
   "outputs": [
    {
     "name": "stdout",
     "output_type": "stream",
     "text": [
      "{1: 'Class-X', 'name': 'Madhav', 'age': 20}\n",
      "{'name': 'Madhav', 'age': 20, 'city': 'Mathura'}\n",
      "Madhav\n"
     ]
    }
   ],
   "source": [
    "# Dictionary in Python\n",
    "# A dictionary is a data structure in python that stores data in key-value pairs. Dicitonary \n",
    "# items(key-value par) are ordered, changeable \n",
    "\n",
    "# key : must be unique and immutable (strings,numbers ,or tupels).\n",
    "# value = can be any data type does not need to be unique\n",
    "\n",
    "# Create dictionary \n",
    "my_dict= {\"key1\":\"value1\",\"key2\":\"value2\",\"key3\":\"value3\"}\n",
    "# Q1 : Simple dicitonary with three key-value pairs \n",
    "student = {\n",
    "    1 : \"Class-X\",\n",
    "    \"name\" : \"Madhav\",\n",
    "    \"age\" : 20 \n",
    "}\n",
    "print(student)\n",
    "\n",
    "my_dict = {} # empty dict\n",
    "\n",
    "\n",
    "# method -2 using dict()\n",
    "person = dict(name=\"Madhav\", age=20,city=\"Mathura\")\n",
    "print(person)\n",
    "\n",
    "print(person[\"name\"])\n",
    "\n",
    "\n"
   ]
  },
  {
   "cell_type": "code",
   "execution_count": 6,
   "id": "7a95d603-c737-438d-b529-fafbbb3c232f",
   "metadata": {},
   "outputs": [
    {
     "name": "stdout",
     "output_type": "stream",
     "text": [
      "{2, 3, 5, 6, 7}\n"
     ]
    }
   ],
   "source": [
    "# Assignment -6 (List, Tuple,Set,Dict)\n",
    "# Q 1 : Find the intersection (common elements ) of two Lists\n",
    "list1 = [1,2,3,5,6,7]\n",
    "list2 = [3,2,4,5,6,7]\n",
    "\n",
    "intersection_list = set(list1).intersection(set(list2))\n",
    "print(intersection_list)"
   ]
  },
  {
   "cell_type": "code",
   "execution_count": 11,
   "id": "42119fa6",
   "metadata": {},
   "outputs": [
    {
     "data": {
      "text/plain": [
       "[2, 3, 4]"
      ]
     },
     "execution_count": 11,
     "metadata": {},
     "output_type": "execute_result"
    }
   ],
   "source": [
    "# Q 1:\n",
    "list1 = [1,2,3,4]\n",
    "list2 = [2,3,4,5,6]\n",
    "def intersection_loop(list1,list2):\n",
    "    common_list = []\n",
    "    for item in list1:\n",
    "        if item in list2 and item not in common_list:\n",
    "            common_list.append(item)\n",
    "    return common_list\n",
    "intersection_loop(list1,list2)"
   ]
  },
  {
   "cell_type": "code",
   "execution_count": 17,
   "id": "0d02b1e1",
   "metadata": {},
   "outputs": [
    {
     "name": "stdout",
     "output_type": "stream",
     "text": [
      "7\n"
     ]
    }
   ],
   "source": [
    "# Q 2: Find the most the frequent number \n",
    "numbers = [1,2,2,3,3,3,4,7,7,7,7]\n",
    "def most_freq(list1):\n",
    "    max_count=0\n",
    "    most_freq = None\n",
    "    for item in list1:\n",
    "        count = list1.count(item)\n",
    "        if count>max_count:\n",
    "            max_count = count\n",
    "            most_freq = item\n",
    "\n",
    "    return most_freq\n",
    "print(most_freq(numbers))\n",
    "\n"
   ]
  },
  {
   "cell_type": "code",
   "execution_count": 3,
   "id": "dc7a5918",
   "metadata": {},
   "outputs": [
    {
     "name": "stdout",
     "output_type": "stream",
     "text": [
      "[1, 3, 6, 10]\n"
     ]
    }
   ],
   "source": [
    "# Q 3 : find the cumulative sum of a list\n",
    "\n",
    "numbers = [1,2,3,4]\n",
    "def comulative_sum(numbers):\n",
    "    cum_sum=[]\n",
    "    total = 0\n",
    "    for num in numbers:\n",
    "        total +=num\n",
    "        cum_sum.append(total)\n",
    "    return cum_sum\n",
    "print(comulative_sum(numbers))\n"
   ]
  },
  {
   "cell_type": "code",
   "execution_count": null,
   "id": "e54a3ac6-ba72-47e1-8e08-aed289f6cba6",
   "metadata": {},
   "outputs": [],
   "source": [
    "\n",
    "\n"
   ]
  },
  {
   "cell_type": "code",
   "execution_count": null,
   "id": "ef3d12a7-de76-453c-accc-e22cad7d8d72",
   "metadata": {},
   "outputs": [],
   "source": []
  },
  {
   "cell_type": "code",
   "execution_count": null,
   "id": "c4a08af7-b553-4631-94e6-25632f252893",
   "metadata": {},
   "outputs": [],
   "source": []
  }
 ],
 "metadata": {
  "kernelspec": {
   "display_name": "Python 3 (ipykernel)",
   "language": "python",
   "name": "python3"
  },
  "language_info": {
   "codemirror_mode": {
    "name": "ipython",
    "version": 3
   },
   "file_extension": ".py",
   "mimetype": "text/x-python",
   "name": "python",
   "nbconvert_exporter": "python",
   "pygments_lexer": "ipython3",
   "version": "3.11.4"
  }
 },
 "nbformat": 4,
 "nbformat_minor": 5
}
