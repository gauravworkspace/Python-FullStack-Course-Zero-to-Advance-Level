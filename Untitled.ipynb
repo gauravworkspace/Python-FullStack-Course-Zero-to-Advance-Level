{
 "cells": [
  {
   "cell_type": "code",
   "execution_count": null,
   "id": "36325a3d-de30-4c4a-9ff5-0a3420c33c57",
   "metadata": {},
   "outputs": [
    {
     "name": "stdout",
     "output_type": "stream",
     "text": [
      "Enter Your Year : 2025\n"
     ]
    },
    {
     "name": "stdout",
     "output_type": "stream",
     "text": [
      "Not leap year\n"
     ]
    }
   ],
   "source": [
    "# How to calculate the leap year\n",
    "year = int(input(\"Enter Your Year :\"))\n",
    "# 2024\n",
    "if(year%400 == 0) or  (year % 100 != 0) and  (year % 4 == 0):\n",
    "    print(\"Leap year\")\n",
    "else:\n",
    "    print(\"Not leap year\")\n"
   ]
  },
  {
   "cell_type": "code",
   "execution_count": null,
   "id": "cc5066c8-a1e6-4395-a619-3b09892a0bd4",
   "metadata": {},
   "outputs": [],
   "source": []
  }
 ],
 "metadata": {
  "kernelspec": {
   "display_name": "Python 3",
   "language": "python",
   "name": "python3"
  },
  "language_info": {
   "codemirror_mode": {
    "name": "ipython",
    "version": 3
   },
   "file_extension": ".py",
   "mimetype": "text/x-python",
   "name": "python",
   "nbconvert_exporter": "python",
   "pygments_lexer": "ipython3",
   "version": "3.11.4"
  }
 },
 "nbformat": 4,
 "nbformat_minor": 5
}
